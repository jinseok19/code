{
 "cells": [
  {
   "cell_type": "code",
   "execution_count": 15,
   "metadata": {},
   "outputs": [
    {
     "ename": "TypeError",
     "evalue": "'vectorize' object cannot be interpreted as an integer",
     "output_type": "error",
     "traceback": [
      "\u001b[1;31m---------------------------------------------------------------------------\u001b[0m",
      "\u001b[1;31mTypeError\u001b[0m                                 Traceback (most recent call last)",
      "\u001b[1;32m~\\AppData\\Local\\Temp/ipykernel_43472/4122178011.py\u001b[0m in \u001b[0;36m<module>\u001b[1;34m\u001b[0m\n\u001b[0;32m     23\u001b[0m \u001b[0mdst\u001b[0m \u001b[1;33m=\u001b[0m \u001b[0msrc\u001b[0m\u001b[1;33m.\u001b[0m\u001b[0mcopy\u001b[0m\u001b[1;33m(\u001b[0m\u001b[1;33m)\u001b[0m\u001b[1;33m\u001b[0m\u001b[1;33m\u001b[0m\u001b[0m\n\u001b[0;32m     24\u001b[0m \u001b[1;32mif\u001b[0m \u001b[0mcircles\u001b[0m \u001b[1;32mis\u001b[0m \u001b[1;32mnot\u001b[0m \u001b[1;32mNone\u001b[0m\u001b[1;33m:\u001b[0m\u001b[1;33m\u001b[0m\u001b[1;33m\u001b[0m\u001b[0m\n\u001b[1;32m---> 25\u001b[1;33m     \u001b[1;32mfor\u001b[0m \u001b[0mi\u001b[0m \u001b[1;32min\u001b[0m \u001b[0mrange\u001b[0m\u001b[1;33m(\u001b[0m\u001b[0mnp\u001b[0m\u001b[1;33m.\u001b[0m\u001b[0mvectorize\u001b[0m\u001b[1;33m(\u001b[0m\u001b[0mint\u001b[0m\u001b[1;33m(\u001b[0m\u001b[0mcircles\u001b[0m\u001b[1;33m.\u001b[0m\u001b[0mshape\u001b[0m\u001b[1;33m[\u001b[0m\u001b[1;36m1\u001b[0m\u001b[1;33m]\u001b[0m\u001b[1;33m)\u001b[0m\u001b[1;33m)\u001b[0m\u001b[1;33m)\u001b[0m\u001b[1;33m:\u001b[0m\u001b[1;33m\u001b[0m\u001b[1;33m\u001b[0m\u001b[0m\n\u001b[0m\u001b[0;32m     26\u001b[0m         \u001b[0mcx\u001b[0m\u001b[1;33m,\u001b[0m \u001b[0mcy\u001b[0m\u001b[1;33m,\u001b[0m \u001b[0mradius\u001b[0m \u001b[1;33m=\u001b[0m \u001b[0mnp\u001b[0m\u001b[1;33m.\u001b[0m\u001b[0mvectorize\u001b[0m\u001b[1;33m(\u001b[0m\u001b[0mint\u001b[0m\u001b[1;33m(\u001b[0m\u001b[0mcircles\u001b[0m\u001b[1;33m[\u001b[0m\u001b[1;36m0\u001b[0m\u001b[1;33m]\u001b[0m\u001b[1;33m[\u001b[0m\u001b[0mi\u001b[0m\u001b[1;33m]\u001b[0m\u001b[1;33m.\u001b[0m\u001b[0mint\u001b[0m\u001b[1;33m(\u001b[0m\u001b[1;33m)\u001b[0m\u001b[1;33m)\u001b[0m\u001b[1;33m)\u001b[0m\u001b[1;33m\u001b[0m\u001b[1;33m\u001b[0m\u001b[0m\n\u001b[0;32m     27\u001b[0m         \u001b[0mcv2\u001b[0m\u001b[1;33m.\u001b[0m\u001b[0mcircle\u001b[0m\u001b[1;33m(\u001b[0m\u001b[0mdst\u001b[0m\u001b[1;33m,\u001b[0m \u001b[1;33m(\u001b[0m\u001b[0mcx\u001b[0m\u001b[1;33m,\u001b[0m \u001b[0mcy\u001b[0m\u001b[1;33m)\u001b[0m\u001b[1;33m,\u001b[0m \u001b[0mradius\u001b[0m\u001b[1;33m,\u001b[0m \u001b[1;33m(\u001b[0m\u001b[1;36m0\u001b[0m\u001b[1;33m,\u001b[0m \u001b[1;36m0\u001b[0m\u001b[1;33m,\u001b[0m \u001b[1;36m255\u001b[0m\u001b[1;33m)\u001b[0m\u001b[1;33m,\u001b[0m \u001b[1;36m2\u001b[0m\u001b[1;33m,\u001b[0m \u001b[0mcv2\u001b[0m\u001b[1;33m.\u001b[0m\u001b[0mLINE_AA\u001b[0m\u001b[1;33m)\u001b[0m\u001b[1;33m\u001b[0m\u001b[1;33m\u001b[0m\u001b[0m\n",
      "\u001b[1;31mTypeError\u001b[0m: 'vectorize' object cannot be interpreted as an integer"
     ]
    }
   ],
   "source": [
    "import sys\n",
    "import numpy as np\n",
    "import cv2\n",
    "\n",
    "\n",
    "# 입력 이미지 불러오기\n",
    "src = cv2.imread('coins1.jpg')\n",
    "\n",
    "if src is None:\n",
    "    print('Image open failed!')\n",
    "    sys.exit()\n",
    "\n",
    "gray = cv2.cvtColor(src, cv2.COLOR_BGR2GRAY)\n",
    "blr = cv2.GaussianBlur(gray, (0, 0), 1)\n",
    "\n",
    "# 허프 변환 원 검출\n",
    "circles = cv2.HoughCircles(blr, cv2.HOUGH_GRADIENT, 1, 50, \n",
    "                           param1=150, param2=40, minRadius=20, maxRadius=80)\n",
    "\n",
    "\n",
    "# 원 검출 결과 및 동전 금액 출력\n",
    "sum_of_money = 0\n",
    "dst = src.copy()\n",
    "if circles is not None:\n",
    "    for i in range(np.vectorize(circles.shape[1])):\n",
    "        cx, cy, radius = np.vectorize(circles[0][i].int())\n",
    "        cv2.circle(dst, (cx, cy), radius, (0, 0, 255), 2, cv2.LINE_AA)\n",
    "        \n",
    "\n",
    "        # 동전 영역 부분 영상 추출\n",
    "        x1 = int(cx - radius)\n",
    "        y1 = int(cy - radius)\n",
    "        x2 = int(cx + radius)\n",
    "        y2 = int(cy + radius)\n",
    "        radius = int(radius)\n",
    "        \n",
    "        crop = dst[y1:y2, x1:x2, :]\n",
    "        ch, cw = crop.shape[:2]\n",
    "\n",
    "        # 동전 영역에 대한 ROI 마스크 영상 생성\n",
    "        mask = np.zeros((ch, cw), np.uint8)\n",
    "        cv2.circle(mask, (cw//2, ch//2), radius, 255, -1)\n",
    "\n",
    "        cv2.imshow('crop',crop)\n",
    "        cv2.waitKey()\n",
    "        \n",
    "        # 동전 영역 Hue 색 성분을 +40 시프트하고, Hue 평균을 계산\n",
    "        hsv = cv2.cvtColor(crop, cv2.COLOR_BGR2HSV)\n",
    "        hue, _, _ = cv2.split(hsv)\n",
    "        hue_shift = (hue + 40) % 180\n",
    "        mean_of_hue = cv2.mean(hue_shift, mask)[0]\n",
    "\n",
    "        # Hue 평균이 90보다 작으면 10원, 90보다 크면 100원으로 간주\n",
    "        won = 100\n",
    "        if mean_of_hue < 90:\n",
    "            won = 10\n",
    "\n",
    "        sum_of_money += won\n",
    "\n",
    "        cv2.putText(crop, str(won), (20, 50), cv2.FONT_HERSHEY_SIMPLEX,\n",
    "                    0.75, (255, 0, 0), 2, cv2.LINE_AA)\n",
    "\n",
    "cv2.putText(dst, str(sum_of_money) + ' won', (40, 80),\n",
    "            cv2.FONT_HERSHEY_DUPLEX, 2, (255, 0, 0), 2, cv2.LINE_AA)\n",
    "\n",
    "cv2.imshow('src', src)\n",
    "cv2.imshow('dst', dst)\n",
    "cv2.waitKey()\n",
    "\n",
    "cv2.destroyAllWindows()\n"
   ]
  },
  {
   "cell_type": "code",
   "execution_count": null,
   "metadata": {},
   "outputs": [],
   "source": []
  }
 ],
 "metadata": {
  "kernelspec": {
   "display_name": "Python 3.9.6 64-bit",
   "language": "python",
   "name": "python3"
  },
  "language_info": {
   "codemirror_mode": {
    "name": "ipython",
    "version": 3
   },
   "file_extension": ".py",
   "mimetype": "text/x-python",
   "name": "python",
   "nbconvert_exporter": "python",
   "pygments_lexer": "ipython3",
   "version": "3.9.6"
  },
  "orig_nbformat": 4,
  "vscode": {
   "interpreter": {
    "hash": "81794d4967e6c3204c66dcd87b604927b115b27c00565d3d43f05ba2f3a2cb0d"
   }
  }
 },
 "nbformat": 4,
 "nbformat_minor": 2
}
